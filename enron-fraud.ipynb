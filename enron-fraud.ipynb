{
 "cells": [
  {
   "cell_type": "markdown",
   "metadata": {},
   "source": [
    "## The goal of the project"
   ]
  },
  {
   "cell_type": "markdown",
   "metadata": {},
   "source": [
    "The goal of this project is to find the employes that may have commited fraud on Enron bankruptcy case. To accomplish that we use Machine Learning, a technique that make the algorithm learn from a data set, so that way we can make predictions with those data who may have commited fraud or not."
   ]
  },
  {
   "cell_type": "markdown",
   "metadata": {},
   "source": [
    "### Characteristics of dataset"
   ]
  },
  {
   "cell_type": "markdown",
   "metadata": {},
   "source": [
    "- There are a total of 146 rows, and 12,5% of those rows POI person.\n",
    "- There are a total of 21 features, and this is the total of NaNs values from each features:"
   ]
  },
  {
   "cell_type": "markdown",
   "metadata": {},
   "source": [
    "<img  src=\"nan values.png\" width=\"250\" height=\"250\" style=\"float: left;\">"
   ]
  },
  {
   "cell_type": "markdown",
   "metadata": {},
   "source": [
    "- Those that have more than 100 NaNs is removed from the dataset."
   ]
  },
  {
   "cell_type": "markdown",
   "metadata": {},
   "source": [
    "### Outliers"
   ]
  },
  {
   "cell_type": "markdown",
   "metadata": {},
   "source": [
    "The firsts outliers to be removed is the TOTAL and THE TRAVEL AGENCY IN THE PARK in the dictionary.\n",
    "\n",
    "Then those person that have more than 15 fetures that is NaN values is removed from the dataset.\n",
    "\n",
    "The others are most from POI to be more specific most from directors of the company, so it's a data needed for the project."
   ]
  },
  {
   "cell_type": "markdown",
   "metadata": {},
   "source": [
    "## Understanding the Dataset"
   ]
  },
  {
   "cell_type": "markdown",
   "metadata": {},
   "source": [
    "### What features is used in the project."
   ]
  },
  {
   "cell_type": "markdown",
   "metadata": {},
   "source": [
    "The features used in this project are: `exercised_stock_option` and `total_stock_value`. For this project I made `total_spent` that sum the salary and expenses of a person, so that way we can know the year spent with that person. For features selection I used SlectKBest for automate my selection and the result of the score was this: "
   ]
  },
  {
   "cell_type": "markdown",
   "metadata": {},
   "source": [
    "<img  src=\"selectk_score.png\" width=\"300\" height=\"300\" style=\"float: left;\">"
   ]
  },
  {
   "cell_type": "markdown",
   "metadata": {},
   "source": [
    "Like we can see from images bellow the best result is the one that only use 2 features:"
   ]
  },
  {
   "cell_type": "markdown",
   "metadata": {},
   "source": [
    "#### K=1\n",
    "<img  src=\"ada k=1.png\" width=\"500\" height=\"500\" style=\"float: left;\">\n"
   ]
  },
  {
   "cell_type": "markdown",
   "metadata": {},
   "source": [
    "#### K=2\n",
    "<img  src=\"ada k=2.png\" width=\"500\" height=\"500\" style=\"float: left;\">\n"
   ]
  },
  {
   "cell_type": "markdown",
   "metadata": {},
   "source": [
    "#### K=3\n",
    "<img  src=\"ada k=3.png\" width=\"500\" height=\"500\" style=\"float: left;\">"
   ]
  },
  {
   "cell_type": "markdown",
   "metadata": {},
   "source": [
    "### Did need to do any scaling?"
   ]
  },
  {
   "cell_type": "markdown",
   "metadata": {},
   "source": [
    "No, both AdaBoost and Random Forest doesn't need any scaling."
   ]
  },
  {
   "cell_type": "markdown",
   "metadata": {},
   "source": [
    "## Pick an algorithm"
   ]
  },
  {
   "cell_type": "markdown",
   "metadata": {},
   "source": [
    "This project is end up using AdaBoostClassifier. And was tried to used RandomForestClassifier. The AdaBoost metrics is closer in both Precision and Recall of the 0.3, like can see in the two images below:"
   ]
  },
  {
   "cell_type": "markdown",
   "metadata": {},
   "source": [
    "<img  src=\"ada k=2.png\" width=\"500\" height=\"500\" style=\"float: left;\">"
   ]
  },
  {
   "cell_type": "markdown",
   "metadata": {},
   "source": [
    "<img  src=\"random k=2.png\" width=\"500\" height=\"500\" style=\"float: left;\">"
   ]
  },
  {
   "cell_type": "markdown",
   "metadata": {},
   "source": [
    "## Tune the algorithm"
   ]
  },
  {
   "cell_type": "markdown",
   "metadata": {},
   "source": [
    "A small parameters change can have a greater impact the results of the algorithm. For this algorithm I used GridSearchCV to check with of the parameters have the best tuning for the AdaBoost, you have to pass the classifier and the parameters to be checked. \n",
    "The parameters tunning was: (algorithm='SAMME.R', base_estimator=None, learning_rate=0.9, n_estimators=200, random_state=42)\n"
   ]
  },
  {
   "cell_type": "markdown",
   "metadata": {},
   "source": [
    "## Validation"
   ]
  },
  {
   "cell_type": "markdown",
   "metadata": {},
   "source": [
    "It's a technique to train and test the datasets, it's give you an estimate of perfomace on an independent dataset, and help to prevent overfitting.\n",
    "\n",
    "A classical error can be done in this example: Imagine that you have typical items used by 2 person and then you split your data the training data in a way that is entirely from item of the first person, and the testing data is almost entirely from second person, then your algorithm can't predict from who is those itens."
   ]
  },
  {
   "cell_type": "markdown",
   "metadata": {},
   "source": [
    "This analisys is validated by using StratifiedShuffleSplit."
   ]
  },
  {
   "cell_type": "markdown",
   "metadata": {},
   "source": [
    "## Evaluation Metrics"
   ]
  },
  {
   "cell_type": "markdown",
   "metadata": {},
   "source": [
    "For this project is used 2 Evaluation Metrics, with is precision and recall. The precision is that from all itens that is marked as positive how many of then is belong to positive class, in case of this project the Precission is 42.53% that means that the project has a medium change to give False Positive value. And recall is from all that are trully positive values how many is correctly identify as positive wich means the higher the low the chance to it be a False Negative. In this project the recall is 34.05% wich means it have a high to medium rate to give a false negative."
   ]
  }
 ],
 "metadata": {
  "kernelspec": {
   "display_name": "Python 2",
   "language": "python",
   "name": "python2"
  },
  "language_info": {
   "codemirror_mode": {
    "name": "ipython",
    "version": 2
   },
   "file_extension": ".py",
   "mimetype": "text/x-python",
   "name": "python",
   "nbconvert_exporter": "python",
   "pygments_lexer": "ipython2",
   "version": "2.7.15"
  }
 },
 "nbformat": 4,
 "nbformat_minor": 2
}
